{
 "cells": [
  {
   "cell_type": "markdown",
   "id": "d1d1655c-9c17-4893-a70e-c9daafe338ce",
   "metadata": {},
   "source": [
    "## Translate ENG-DK using parallel processing"
   ]
  },
  {
   "cell_type": "code",
   "execution_count": null,
   "id": "59038f0a-f9be-4112-bf9e-8a3d54429265",
   "metadata": {},
   "outputs": [],
   "source": [
    "import pandas as pd\n",
    "import os\n",
    "import argostranslate.package\n",
    "import argostranslate.translate\n",
    "import time\n",
    "from concurrent.futures import ThreadPoolExecutor\n",
    "\n",
    "os.chdir('/folder')\n",
    "\n",
    "inputfile_name = \"./input.csv\"\n",
    "df = pd.read_csv(inputfile_name, dtype=str) \n",
    "\n",
    "from_code = \"en\"\n",
    "to_code = \"da\"  \n",
    "\n",
    "argostranslate.package.update_package_index()\n",
    "available_packages = argostranslate.package.get_available_packages()\n",
    "\n",
    "package_to_install = next(\n",
    "    filter(\n",
    "        lambda x: x.from_code == from_code and x.to_code == to_code, available_packages\n",
    "    )\n",
    ")\n",
    "argostranslate.package.install_from_path(package_to_install.download())\n",
    "\n",
    "def translate_batch(texts):\n",
    "    return [argostranslate.translate.translate(text, from_code, to_code) if pd.notna(text) else None for text in texts]\n",
    "\n",
    "max_rows = 100000\n",
    "start_time = time.time()\n",
    "\n",
    "with ThreadPoolExecutor() as executor:\n",
    "    for col in df.columns[1:11]:  \n",
    "        print(f\"Translating column: {col}\")\n",
    "        texts_to_translate = df[col].head(max_rows).tolist()\n",
    "        \n",
    "        translated_texts = list(executor.submit(translate_batch, texts_to_translate).result())\n",
    "\n",
    "        df.loc[:max_rows-1, col] = translated_texts \n",
    "\n",
    "\n",
    "output_file = \"output.csv\"\n",
    "df.to_csv(output_file, index=False)\n",
    "\n",
    "end_time = time.time()\n",
    "print(f\"Translation complete! File saved as '{output_file}'.\")\n",
    "print(f\"Total time taken for translation: {end_time - start_time:.2f} seconds.\")\n"
   ]
  },
  {
   "cell_type": "code",
   "execution_count": null,
   "id": "6bbbe7a0-ab92-4a53-a079-4d8387517140",
   "metadata": {},
   "outputs": [],
   "source": [
    "import pandas as pd\n",
    "import os\n",
    "\n",
    "os.chdir('/folder')\n",
    "\n",
    "inputfile_name = \"./input.csv\"\n",
    "df = pd.read_csv(inputfile_name, dtype=str) \n",
    "\n",
    "df_expanded = df.copy()\n",
    "\n",
    "max_new_columns = 30\n",
    "new_columns = [f\"word_{i+1}\" for i in range(max_new_columns)]\n",
    "\n",
    "for col in new_columns:\n",
    "    df_expanded[col] = None\n",
    "\n",
    "for index, row in df.iterrows():\n",
    "    words = []  \n",
    "\n",
    "    for col in df.columns[1:11]: \n",
    "        tag = row[col]\n",
    "        if pd.notna(tag) and len(tag.split()) > 1:  \n",
    "            words.extend(tag.split())  \n",
    "\n",
    "    for i in range(min(len(words), max_new_columns)):\n",
    "        df_expanded.at[index, f\"word_{i+1}\"] = words[i]\n",
    "\n",
    "df_expanded.to_csv(\"output.csv\", index=False, sep = \";\")\n",
    "\n",
    "print(\"Processing complete\")\n"
   ]
  }
 ],
 "metadata": {
  "kernelspec": {
   "display_name": "Python 3 (ipykernel)",
   "language": "python",
   "name": "python3"
  },
  "language_info": {
   "codemirror_mode": {
    "name": "ipython",
    "version": 3
   },
   "file_extension": ".py",
   "mimetype": "text/x-python",
   "name": "python",
   "nbconvert_exporter": "python",
   "pygments_lexer": "ipython3",
   "version": "3.9.21"
  }
 },
 "nbformat": 4,
 "nbformat_minor": 5
}
