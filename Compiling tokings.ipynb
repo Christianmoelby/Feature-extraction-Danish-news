{
 "cells": [
  {
   "cell_type": "markdown",
   "id": "e222a041-d928-41b5-ade2-715dbad8841c",
   "metadata": {},
   "source": [
    "## Merge and sort - tokens"
   ]
  },
  {
   "cell_type": "code",
   "execution_count": null,
   "id": "06fb8212-47b3-46c6-ac29-46235bb5d7b1",
   "metadata": {},
   "outputs": [],
   "source": [
    "import pandas as pd\n",
    "import os\n",
    "\n",
    "os.chdir('/folder')\n",
    "csv_files = [\n",
    "    \"./tokens_2015.csv\",\n",
    "    \"./tokens_2016.csv\",\n",
    "    \"./tokens_2017.csv\",\n",
    "    \"./tokens_2018.csv\",\n",
    "    \"./tokens_2019.csv\",\n",
    "    \"./tokens_2020.csv\",\n",
    "    \"./tokens_2021.csv\",\n",
    "    \"./tokens_2022.csv\",\n",
    "    \"./tokens_2023.csv\",\n",
    "    \"./tokens_2024.csv\"\n",
    "]\n",
    "\n",
    "output_csv = \"./output.csv\"\n",
    "dfs = [pd.read_csv(file, sep=\";\", header=0, low_memory=False) for file in csv_files]\n",
    "\n",
    "for i, df in enumerate(dfs):\n",
    "    print(f\"Columns in {csv_files[i]}: {df.columns.tolist()}\")\n",
    "\n",
    "columns = dfs[0].columns  \n",
    "\n",
    "for i, df in enumerate(dfs):\n",
    "    missing_cols = [col for col in columns if col not in df.columns]\n",
    "    for col in missing_cols:\n",
    "        df[col] = pd.NA  \n",
    "    \n",
    "    dfs[i] = df[columns]\n",
    "\n",
    "combined_df = pd.concat(dfs, ignore_index=True)\n",
    "\n",
    "combined_df['sort_key'] = combined_df['ID'].str.split('_').apply(lambda x: '_'.join(x[1:4]))\n",
    "\n",
    "combined_df = combined_df.sort_values(by='sort_key')\n",
    "\n",
    "combined_df = combined_df.drop(columns=['sort_key'])\n",
    "\n",
    "combined_df.to_csv(output_csv, index=False, sep=\";\")\n",
    "\n",
    "print(f\"Combined and sorted CSV file saved to: {output_csv}\")\n",
    "\n"
   ]
  }
 ],
 "metadata": {
  "kernelspec": {
   "display_name": "Python 3 (ipykernel)",
   "language": "python",
   "name": "python3"
  },
  "language_info": {
   "codemirror_mode": {
    "name": "ipython",
    "version": 3
   },
   "file_extension": ".py",
   "mimetype": "text/x-python",
   "name": "python",
   "nbconvert_exporter": "python",
   "pygments_lexer": "ipython3",
   "version": "3.9.21"
  }
 },
 "nbformat": 4,
 "nbformat_minor": 5
}
